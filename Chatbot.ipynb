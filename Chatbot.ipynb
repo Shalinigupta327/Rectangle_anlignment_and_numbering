{
 "cells": [
  {
   "cell_type": "code",
   "execution_count": 1,
   "id": "e1529bbb-f016-483b-ba68-b380e8579ef6",
   "metadata": {},
   "outputs": [
    {
     "name": "stdout",
     "output_type": "stream",
     "text": [
      "Bot:  Welcome to the Loan Approval Chatbot! I can help you determine if you're eligible for a loan. Let's get started.\n"
     ]
    },
    {
     "name": "stdin",
     "output_type": "stream",
     "text": [
      "User:  hi\n"
     ]
    },
    {
     "name": "stdout",
     "output_type": "stream",
     "text": [
      "Bot:  May I know your age?\n"
     ]
    },
    {
     "name": "stdin",
     "output_type": "stream",
     "text": [
      "User:  45\n"
     ]
    },
    {
     "name": "stdout",
     "output_type": "stream",
     "text": [
      "Bot:  What is your annual income (in thousands)?\n"
     ]
    },
    {
     "name": "stdin",
     "output_type": "stream",
     "text": [
      "User:  200000\n"
     ]
    },
    {
     "name": "stdout",
     "output_type": "stream",
     "text": [
      "Bot:  What is your gender? (M/F/O)\n"
     ]
    },
    {
     "name": "stdin",
     "output_type": "stream",
     "text": [
      "User:  M\n"
     ]
    },
    {
     "name": "stdout",
     "output_type": "stream",
     "text": [
      "Bot:  Do you own a home? (Home Owner, Rent, Home Mortgage)\n"
     ]
    },
    {
     "name": "stdin",
     "output_type": "stream",
     "text": [
      "User:  rent\n"
     ]
    },
    {
     "name": "stdout",
     "output_type": "stream",
     "text": [
      "Bot:  Do you have a securities account with the bank? (Yes/No)\n"
     ]
    },
    {
     "name": "stdin",
     "output_type": "stream",
     "text": [
      "User:  no\n"
     ]
    },
    {
     "name": "stdout",
     "output_type": "stream",
     "text": [
      "Bot:  Do you have a certificate of deposit account (CD) with the bank? (Yes/No)\n"
     ]
    },
    {
     "name": "stdin",
     "output_type": "stream",
     "text": [
      "User:  yes\n"
     ]
    },
    {
     "name": "stdout",
     "output_type": "stream",
     "text": [
      "Bot:  Do you use internet banking facilities? (Yes/No)\n"
     ]
    },
    {
     "name": "stdin",
     "output_type": "stream",
     "text": [
      "User:  yes\n"
     ]
    },
    {
     "name": "stdout",
     "output_type": "stream",
     "text": [
      "Bot:  Do you use a credit card issued by the bank? (Yes/No)\n"
     ]
    },
    {
     "name": "stdin",
     "output_type": "stream",
     "text": [
      "User:  yes\n"
     ]
    },
    {
     "name": "stdout",
     "output_type": "stream",
     "text": [
      "Bot:  Based on the information provided, you are eligible for a loan.\n"
     ]
    }
   ],
   "source": [
    "import joblib\n",
    "\n",
    "# Load the trained model\n",
    "svm_classifier = joblib.load('traineddd_model.pkl')\n",
    "\n",
    "# Define a function to predict loan acceptance\n",
    "def predict_loan_acceptance(user_info):\n",
    "    # Extract relevant features from the user_info dictionary\n",
    "    user_features = [\n",
    "        (user_info['Age']),\n",
    "        float(user_info['Income']),\n",
    "        (user_info['Gender']),\n",
    "        # float(user_info['Gender_M']),  # Updated key for Male\n",
    "        # float(user_info['Gender_O']),  # Updated key for Others\n",
    "        float(user_info['Home Ownership_Home Mortgage']),  # Updated key for Home Ownership\n",
    "        float(user_info['Securities Account_Yes']),  # Updated key for Securities Account\n",
    "        float(user_info['CD Account_Yes']),  # Updated key for CD Account\n",
    "        float(user_info['Online_Yes']),  # Updated key for Online\n",
    "        float(user_info['CreditCard_Yes']),  # Updated key for CreditCard\n",
    "        # Add more features if needed\n",
    "    ]\n",
    "    # Use the trained model to make predictions\n",
    "    prediction = svm_classifier.predict([user_features])\n",
    "    return prediction[0]\n",
    "\n",
    "# Define the conversation flow\n",
    "conversation = [\n",
    "    \"Welcome to the Loan Approval Chatbot! I can help you determine if you're eligible for a loan. Let's get started.\",\n",
    "    \"May I know your age?\",\n",
    "    \"What is your annual income (in thousands)?\",\n",
    "    \"What is your gender? (M/F/O)\",\n",
    "    \"Do you own a home? (Home Owner, Rent, Home Mortgage)\",\n",
    "    \"Do you have a securities account with the bank? (Yes/No)\",\n",
    "    \"Do you have a certificate of deposit account (CD) with the bank? (Yes/No)\",\n",
    "    \"Do you use internet banking facilities? (Yes/No)\",\n",
    "    \"Do you use a credit card issued by the bank? (Yes/No)\",\n",
    "    \"Based on the information provided, you are eligible for a loan.\"\n",
    "]\n",
    "\n",
    "# Start chatting with the chatbot\n",
    "print(\"Bot: \", conversation[0])\n",
    "\n",
    "user_info = {}\n",
    "for i in range(1, len(conversation)):\n",
    "    user_input = input(\"User: \")\n",
    "    if \"age\" in conversation[i].lower():\n",
    "        user_info[\"Age\"] = user_input\n",
    "    elif \"income\" in conversation[i].lower():\n",
    "        user_info[\"Income\"] = user_input\n",
    "    elif \"gender\" in conversation[i].lower():\n",
    "        user_info[\"Gender\"] = user_input\n",
    "    elif \"home ownership\" in conversation[i].lower():\n",
    "        if \"home mortgage\" in user_input.lower():\n",
    "            user_info[\"Home Ownership_Home Mortgage\"] = 1\n",
    "        elif \"home owner\" in user_input.lower():\n",
    "            user_info[\"Home Ownership_Home Owner\"] = 1\n",
    "        elif \"rent\" in user_input.lower():\n",
    "            user_info[\"Home Ownership_Rent\"] = 1\n",
    "    elif \"securities account\" in conversation[i].lower():\n",
    "        user_info[\"Securities Account_Yes\" if user_input.lower() == \"yes\" else \"Securities Account_No\"] = 1\n",
    "    elif \"cd account\" in conversation[i].lower():\n",
    "        user_info[\"CD Account_Yes\" if user_input.lower() == \"yes\" else \"CD Account_No\"] = 1\n",
    "    elif \"internet banking\" in conversation[i].lower():\n",
    "        user_info[\"Online_Yes\" if user_input.lower() == \"yes\" else \"Online_No\"] = 1\n",
    "    elif \"credit card\" in conversation[i].lower():\n",
    "        user_info[\"CreditCard_Yes\" if user_input.lower() == \"yes\" else \"CreditCard_No\"] = 1\n",
    "    elif \"mortgage\" in conversation[i].lower():\n",
    "        user_info[\"Mortgage\"] = user_input\n",
    "        # Make prediction after collecting all required information\n",
    "        prediction = predict_loan_acceptance(user_info)\n",
    "        if prediction == 1:\n",
    "            print(\"Bot: You are eligible for a loan.\")\n",
    "        else:\n",
    "            print(\"Bot: You are not eligible for a loan.\")\n",
    "        break\n",
    "    print(\"Bot: \", conversation[i])\n"
   ]
  },
  {
   "cell_type": "code",
   "execution_count": null,
   "id": "0683f657-5cf2-403f-8f33-798c9c9c6f5d",
   "metadata": {},
   "outputs": [],
   "source": []
  }
 ],
 "metadata": {
  "kernelspec": {
   "display_name": "Python 3 (ipykernel)",
   "language": "python",
   "name": "python3"
  },
  "language_info": {
   "codemirror_mode": {
    "name": "ipython",
    "version": 3
   },
   "file_extension": ".py",
   "mimetype": "text/x-python",
   "name": "python",
   "nbconvert_exporter": "python",
   "pygments_lexer": "ipython3",
   "version": "3.11.8"
  }
 },
 "nbformat": 4,
 "nbformat_minor": 5
}
