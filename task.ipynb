{
  "nbformat": 4,
  "nbformat_minor": 0,
  "metadata": {
    "colab": {
      "provenance": [],
      "authorship_tag": "ABX9TyOaYltSa0nVGFw9zn2uqgrQ",
      "include_colab_link": true
    },
    "kernelspec": {
      "name": "python3",
      "display_name": "Python 3"
    },
    "language_info": {
      "name": "python"
    }
  },
  "cells": [
    {
      "cell_type": "markdown",
      "metadata": {
        "id": "view-in-github",
        "colab_type": "text"
      },
      "source": [
        "<a href=\"https://colab.research.google.com/github/Shalinigupta327/Task/blob/main/task.ipynb\" target=\"_parent\"><img src=\"https://colab.research.google.com/assets/colab-badge.svg\" alt=\"Open In Colab\"/></a>"
      ]
    },
    {
      "cell_type": "code",
      "source": [
        "class Float:\n",
        "    def __init__(self, value):\n",
        "        self.value = value\n",
        "\n",
        "    def __str__(self):\n",
        "        return f\"{self.value//100}.{self.value%100:02d}\"\n",
        "\n",
        "    def add(self, other):\n",
        "        return Float(self.value + other.value)\n",
        "\n",
        "    def subtract(self, other):\n",
        "        return Float(self.value - other.value)\n",
        "\n",
        "    def multiply(self, other):\n",
        "        return Float((self.value * other.value) // 100)\n",
        "\n",
        "    def divide(self, other):\n",
        "        return Float((self.value * 100) // other.value)\n",
        "\n",
        "num1 = Float(56438)\n",
        "num2 = Float(-4978)\n",
        "\n",
        "add = num1.add(num2)\n",
        "sub = num1.subtract(num2)\n",
        "mul = num1.multiply(num2)\n",
        "div = num1.divide(num2)\n",
        "\n",
        "print(\"addition: \", add)\n",
        "print(\"subtraction:\", sub)\n",
        "print(\"multiplication:\", mul)\n",
        "print(\"division:\", div)\n",
        "\n"
      ],
      "metadata": {
        "colab": {
          "base_uri": "https://localhost:8080/"
        },
        "id": "fmPGDshCZhDj",
        "outputId": "4f092474-c1d5-4000-fc24-c526c39f6675"
      },
      "execution_count": null,
      "outputs": [
        {
          "output_type": "stream",
          "name": "stdout",
          "text": [
            "addition:  514.60\n",
            "subtraction: 614.16\n",
            "multiplication: -28095.16\n",
            "division: -12.66\n"
          ]
        }
      ]
    },
    {
      "cell_type": "code",
      "source": [
        "class CustomInteger:\n",
        "    def __init__(self, value, is_negative=False):\n",
        "        self.value = value\n",
        "        self.is_negative = is_negative\n",
        "\n",
        "    def __str__(self):\n",
        "        return f\"{'-' if self.is_negative else ''}{self.value}\"\n",
        "\n",
        "    def add(self, other):\n",
        "        if self.is_negative == other.is_negative:\n",
        "            return CustomInteger(self.value + other.value, self.is_negative)\n",
        "        else:\n",
        "            if self.value >= other.value:\n",
        "                return CustomInteger(self.value - other.value, self.is_negative)\n",
        "            else:\n",
        "                return CustomInteger(other.value - self.value, other.is_negative)\n",
        "\n",
        "    def subtract(self, other):\n",
        "        if self.is_negative != other.is_negative:\n",
        "            return CustomInteger(self.value + other.value, self.is_negative)\n",
        "        else:\n",
        "            if self.value >= other.value:\n",
        "                return CustomInteger(self.value - other.value, self.is_negative)\n",
        "            else:\n",
        "                return CustomInteger(other.value - self.value, not self.is_negative)\n",
        "\n",
        "    def multiply(self, other):\n",
        "        product = self.value * other.value\n",
        "        is_negative = self.is_negative != other.is_negative\n",
        "        return CustomInteger(abs(product), is_negative)\n",
        "\n",
        "    def divide(self, other):\n",
        "        if other.value == 0:\n",
        "            raise ValueError(\"Cannot divide by zero.\")\n",
        "        quotient = self.value / other.value\n",
        "        is_negative = self.is_negative != other.is_negative\n",
        "        return CustomFloat(quotient, is_negative)\n",
        "\n",
        "\n",
        "class CustomFloat:\n",
        "    def __init__(self, value, is_negative=False):\n",
        "        self.value = value\n",
        "        self.is_negative = is_negative\n",
        "\n",
        "    def __str__(self):\n",
        "        return f\"{'-' if self.is_negative else ''}{self.value:.2f}\"\n",
        "\n",
        "num1 = CustomInteger(5, is_negative=True)\n",
        "num2 = CustomInteger(3, is_negative=True)\n",
        "\n",
        "result_add = num1.add(num2)\n",
        "print(\"Addition:\", result_add)\n",
        "\n",
        "result_subtract = num1.subtract(num2)\n",
        "print(\"Subtraction:\", result_subtract)\n",
        "\n",
        "result_multiply = num1.multiply(num2)\n",
        "print(\"Multiplication:\", result_multiply)\n",
        "\n",
        "result_divide = num1.divide(num2)\n",
        "print(\"Division:\", result_divide)\n"
      ],
      "metadata": {
        "colab": {
          "base_uri": "https://localhost:8080/"
        },
        "id": "EWttPxZaz0Pg",
        "outputId": "e869c140-c099-4e92-8727-5c4027a8e3d7"
      },
      "execution_count": null,
      "outputs": [
        {
          "output_type": "stream",
          "name": "stdout",
          "text": [
            "Addition: -8\n",
            "Subtraction: -2\n",
            "Multiplication: 15\n",
            "Division: 1.67\n"
          ]
        }
      ]
    },
    {
      "cell_type": "code",
      "source": [
        "import random\n",
        "def get_computer_Choice():\n",
        "    choices = ['R', 'P', 'S']\n",
        "    return random.choice(choices)\n",
        "\n",
        "def get_user_choice():\n",
        "    choice = input(\"Enter R, P or S: \").upper()\n",
        "    while choice not in ['R', 'P', 'S']:\n",
        "        print(\"Invalid choice.\")\n",
        "        choice = input(\"Enter R, P or S: \").upper()\n",
        "    return choice\n",
        "\n",
        "def winner(user_choice, computer_Choice):\n",
        "    if user_choice == computer_Choice:\n",
        "        return \"It's a tie!\"\n",
        "    elif (user_choice == 'R' and computer_Choice == 'S') or (user_choice == 'P' and computer_Choice == 'R') or (user_choice == 'S' and computer_Choice == 'P'):\n",
        "        return \"You won!\"\n",
        "    else:\n",
        "        return \"You lost!\"\n",
        "\n",
        "def play_game():\n",
        "    print(\"welcome to rock paper scissor game!\")\n",
        "    user_choice = get_user_choice()\n",
        "    computer_Choice = get_computer_Choice()\n",
        "    print(f\"Computer chose: {computer_Choice}\")\n",
        "    result = winner(user_choice, computer_Choice)\n",
        "    print(result)\n",
        "\n",
        "if __name__ == \"__main__\":\n",
        "    play_game()\n"
      ],
      "metadata": {
        "colab": {
          "base_uri": "https://localhost:8080/"
        },
        "id": "tGGogp9d1PGG",
        "outputId": "b7536bd7-070f-4466-e60b-43dec6fb9b93"
      },
      "execution_count": null,
      "outputs": [
        {
          "output_type": "stream",
          "name": "stdout",
          "text": [
            "welcome to rock paper scissor game!\n",
            "Enter R, P or S: S\n",
            "Computer chose: P\n",
            "You won!\n"
          ]
        }
      ]
    },
    {
      "cell_type": "code",
      "source": [],
      "metadata": {
        "id": "ALv6uzWf8wOv"
      },
      "execution_count": null,
      "outputs": []
    }
  ]
}